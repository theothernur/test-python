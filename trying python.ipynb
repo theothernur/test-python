{
 "cells": [
  {
   "cell_type": "code",
   "execution_count": 3,
   "id": "4d27870c",
   "metadata": {},
   "outputs": [
    {
     "name": "stdout",
     "output_type": "stream",
     "text": [
      "2\n",
      "2\n",
      "hello\n"
     ]
    }
   ],
   "source": [
    "x=int(2)\n",
    "print(x)\n",
    "\n",
    "y=2\n",
    "print(y)\n",
    "y=\"hello\" \n",
    "#if we dont put any casting, we change the types\n",
    "print(y)"
   ]
  },
  {
   "cell_type": "code",
   "execution_count": 1,
   "id": "7c8cdca0",
   "metadata": {},
   "outputs": [
    {
     "name": "stdout",
     "output_type": "stream",
     "text": [
      "42\n"
     ]
    }
   ],
   "source": [
    "print(7*6)"
   ]
  },
  {
   "cell_type": "code",
   "execution_count": null,
   "id": "d8cbaec8",
   "metadata": {},
   "outputs": [],
   "source": []
  }
 ],
 "metadata": {
  "kernelspec": {
   "display_name": "Python 3 (ipykernel)",
   "language": "python",
   "name": "python3"
  },
  "language_info": {
   "codemirror_mode": {
    "name": "ipython",
    "version": 3
   },
   "file_extension": ".py",
   "mimetype": "text/x-python",
   "name": "python",
   "nbconvert_exporter": "python",
   "pygments_lexer": "ipython3",
   "version": "3.9.7"
  }
 },
 "nbformat": 4,
 "nbformat_minor": 5
}
